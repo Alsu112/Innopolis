{
 "cells": [
  {
   "cell_type": "markdown",
   "metadata": {
    "collapsed": true,
    "jp-MarkdownHeadingCollapsed": true,
    "jupyter": {
     "outputs_hidden": true
    },
    "pycharm": {
     "name": "#%% md\n"
    }
   },
   "source": [
    "## Week 1 : Data Manipulation and Exploration\n",
    "```\n",
    "- Machine Learning, Innopolis University (Fall semester 2024)\n",
    "- Instructors: Adil Khan & Gcinizwe Dlamini\n",
    "```\n",
    "<hr>\n",
    "\n",
    "\n",
    "### Content\n",
    "```\n",
    "Lab Plan\n",
    "1. Data exploration\n",
    "2. Dealing with categorical features\n",
    "3. Dealing with missing data\n",
    "4. Features Scaling\n",
    "5. Trainset splitting\n",
    "6. Data Visualization\n",
    "\n",
    "```\n",
    "\n",
    "<hr>\n",
    "\n",
    "\n",
    "![](https://www.gosmar.eu/machinelearning/wp-content/uploads/2021/01/MLOps_pipeline_scaling3.png)"
   ]
  },
  {
   "cell_type": "markdown",
   "metadata": {},
   "source": [
    "## Test for libraries installation "
   ]
  },
  {
   "cell_type": "code",
   "execution_count": 2,
   "metadata": {},
   "outputs": [],
   "source": [
    "import pandas as pd\n",
    "import numpy as np\n",
    "import sklearn\n",
    "#rjvv\n",
    "import matplotlib.pyplot as plt\n",
    "%matplotlib inline \n",
    "import warnings \n",
    "warnings.filterwarnings('ignore')"
   ]
  },
  {
   "cell_type": "markdown",
   "metadata": {},
   "source": [
    "## 1. Read Data with Pandas"
   ]
  },
  {
   "cell_type": "code",
   "execution_count": 4,
   "metadata": {
    "pycharm": {
     "name": "#%%\n"
    }
   },
   "outputs": [],
   "source": [
    "football_df = pd.read_csv('./football_data.csv', low_memory=False) #отсутствие смешанных типов low_memory = False\n",
    "football_df.drop(['Date', 'time'], axis=1, inplace=True) #удаляем столбец Date, time"
   ]
  },
  {
   "cell_type": "markdown",
   "metadata": {},
   "source": [
    "## 2. Data exploration"
   ]
  },
  {
   "cell_type": "code",
   "execution_count": 6,
   "metadata": {
    "pycharm": {
     "name": "#%%\n"
    }
   },
   "outputs": [
    {
     "data": {
      "text/html": [
       "<div>\n",
       "<style scoped>\n",
       "    .dataframe tbody tr th:only-of-type {\n",
       "        vertical-align: middle;\n",
       "    }\n",
       "\n",
       "    .dataframe tbody tr th {\n",
       "        vertical-align: top;\n",
       "    }\n",
       "\n",
       "    .dataframe thead th {\n",
       "        text-align: right;\n",
       "    }\n",
       "</style>\n",
       "<table border=\"1\" class=\"dataframe\">\n",
       "  <thead>\n",
       "    <tr style=\"text-align: right;\">\n",
       "      <th></th>\n",
       "      <th>GameID</th>\n",
       "      <th>Drive</th>\n",
       "      <th>qtr</th>\n",
       "      <th>down</th>\n",
       "      <th>TimeUnder</th>\n",
       "      <th>TimeSecs</th>\n",
       "      <th>PlayTimeDiff</th>\n",
       "      <th>SideofField</th>\n",
       "      <th>yrdln</th>\n",
       "      <th>yrdline100</th>\n",
       "      <th>...</th>\n",
       "      <th>yacEPA</th>\n",
       "      <th>Home_WP_pre</th>\n",
       "      <th>Away_WP_pre</th>\n",
       "      <th>Home_WP_post</th>\n",
       "      <th>Away_WP_post</th>\n",
       "      <th>Win_Prob</th>\n",
       "      <th>WPA</th>\n",
       "      <th>airWPA</th>\n",
       "      <th>yacWPA</th>\n",
       "      <th>Season</th>\n",
       "    </tr>\n",
       "  </thead>\n",
       "  <tbody>\n",
       "    <tr>\n",
       "      <th>0</th>\n",
       "      <td>2016121101</td>\n",
       "      <td>13</td>\n",
       "      <td>2</td>\n",
       "      <td>NaN</td>\n",
       "      <td>2</td>\n",
       "      <td>1920.0</td>\n",
       "      <td>5.0</td>\n",
       "      <td>SD</td>\n",
       "      <td>44.0</td>\n",
       "      <td>44.0</td>\n",
       "      <td>...</td>\n",
       "      <td>NaN</td>\n",
       "      <td>NaN</td>\n",
       "      <td>NaN</td>\n",
       "      <td>NaN</td>\n",
       "      <td>NaN</td>\n",
       "      <td>0.000000</td>\n",
       "      <td>NaN</td>\n",
       "      <td>NaN</td>\n",
       "      <td>NaN</td>\n",
       "      <td>2016</td>\n",
       "    </tr>\n",
       "    <tr>\n",
       "      <th>1</th>\n",
       "      <td>2016121101</td>\n",
       "      <td>13</td>\n",
       "      <td>2</td>\n",
       "      <td>1.0</td>\n",
       "      <td>2</td>\n",
       "      <td>1920.0</td>\n",
       "      <td>0.0</td>\n",
       "      <td>SD</td>\n",
       "      <td>47.0</td>\n",
       "      <td>53.0</td>\n",
       "      <td>...</td>\n",
       "      <td>0.330475</td>\n",
       "      <td>0.968025</td>\n",
       "      <td>0.031975</td>\n",
       "      <td>0.940170</td>\n",
       "      <td>0.059830</td>\n",
       "      <td>0.031975</td>\n",
       "      <td>0.027855</td>\n",
       "      <td>0.024299</td>\n",
       "      <td>0.003556</td>\n",
       "      <td>2016</td>\n",
       "    </tr>\n",
       "    <tr>\n",
       "      <th>2</th>\n",
       "      <td>2016121101</td>\n",
       "      <td>13</td>\n",
       "      <td>2</td>\n",
       "      <td>1.0</td>\n",
       "      <td>2</td>\n",
       "      <td>1910.0</td>\n",
       "      <td>10.0</td>\n",
       "      <td>CAR</td>\n",
       "      <td>7.0</td>\n",
       "      <td>7.0</td>\n",
       "      <td>...</td>\n",
       "      <td>NaN</td>\n",
       "      <td>0.940170</td>\n",
       "      <td>0.059830</td>\n",
       "      <td>0.947575</td>\n",
       "      <td>0.052425</td>\n",
       "      <td>0.059830</td>\n",
       "      <td>-0.007405</td>\n",
       "      <td>NaN</td>\n",
       "      <td>NaN</td>\n",
       "      <td>2016</td>\n",
       "    </tr>\n",
       "    <tr>\n",
       "      <th>3</th>\n",
       "      <td>2016121101</td>\n",
       "      <td>13</td>\n",
       "      <td>2</td>\n",
       "      <td>2.0</td>\n",
       "      <td>2</td>\n",
       "      <td>1877.0</td>\n",
       "      <td>33.0</td>\n",
       "      <td>CAR</td>\n",
       "      <td>9.0</td>\n",
       "      <td>9.0</td>\n",
       "      <td>...</td>\n",
       "      <td>-3.766159</td>\n",
       "      <td>0.947575</td>\n",
       "      <td>0.052425</td>\n",
       "      <td>0.953601</td>\n",
       "      <td>0.046399</td>\n",
       "      <td>0.052425</td>\n",
       "      <td>-0.006025</td>\n",
       "      <td>0.036136</td>\n",
       "      <td>-0.042161</td>\n",
       "      <td>2016</td>\n",
       "    </tr>\n",
       "    <tr>\n",
       "      <th>4</th>\n",
       "      <td>2016121101</td>\n",
       "      <td>13</td>\n",
       "      <td>2</td>\n",
       "      <td>3.0</td>\n",
       "      <td>2</td>\n",
       "      <td>1868.0</td>\n",
       "      <td>9.0</td>\n",
       "      <td>CAR</td>\n",
       "      <td>9.0</td>\n",
       "      <td>9.0</td>\n",
       "      <td>...</td>\n",
       "      <td>0.000000</td>\n",
       "      <td>0.953601</td>\n",
       "      <td>0.046399</td>\n",
       "      <td>0.912354</td>\n",
       "      <td>0.087646</td>\n",
       "      <td>0.046399</td>\n",
       "      <td>0.041247</td>\n",
       "      <td>0.041247</td>\n",
       "      <td>0.000000</td>\n",
       "      <td>2016</td>\n",
       "    </tr>\n",
       "  </tbody>\n",
       "</table>\n",
       "<p>5 rows × 100 columns</p>\n",
       "</div>"
      ],
      "text/plain": [
       "       GameID  Drive  qtr  down  TimeUnder  TimeSecs  PlayTimeDiff  \\\n",
       "0  2016121101     13    2   NaN          2    1920.0           5.0   \n",
       "1  2016121101     13    2   1.0          2    1920.0           0.0   \n",
       "2  2016121101     13    2   1.0          2    1910.0          10.0   \n",
       "3  2016121101     13    2   2.0          2    1877.0          33.0   \n",
       "4  2016121101     13    2   3.0          2    1868.0           9.0   \n",
       "\n",
       "  SideofField  yrdln  yrdline100  ...    yacEPA  Home_WP_pre  Away_WP_pre  \\\n",
       "0          SD   44.0        44.0  ...       NaN          NaN          NaN   \n",
       "1          SD   47.0        53.0  ...  0.330475     0.968025     0.031975   \n",
       "2         CAR    7.0         7.0  ...       NaN     0.940170     0.059830   \n",
       "3         CAR    9.0         9.0  ... -3.766159     0.947575     0.052425   \n",
       "4         CAR    9.0         9.0  ...  0.000000     0.953601     0.046399   \n",
       "\n",
       "   Home_WP_post Away_WP_post  Win_Prob       WPA    airWPA    yacWPA  Season  \n",
       "0           NaN          NaN  0.000000       NaN       NaN       NaN    2016  \n",
       "1      0.940170     0.059830  0.031975  0.027855  0.024299  0.003556    2016  \n",
       "2      0.947575     0.052425  0.059830 -0.007405       NaN       NaN    2016  \n",
       "3      0.953601     0.046399  0.052425 -0.006025  0.036136 -0.042161    2016  \n",
       "4      0.912354     0.087646  0.046399  0.041247  0.041247  0.000000    2016  \n",
       "\n",
       "[5 rows x 100 columns]"
      ]
     },
     "execution_count": 6,
     "metadata": {},
     "output_type": "execute_result"
    }
   ],
   "source": [
    "football_df.head(5)"
   ]
  },
  {
   "cell_type": "code",
   "execution_count": 7,
   "metadata": {
    "pycharm": {
     "name": "#%%\n"
    }
   },
   "outputs": [
    {
     "name": "stdout",
     "output_type": "stream",
     "text": [
      "GameID         int64\n",
      "Drive          int64\n",
      "qtr            int64\n",
      "down         float64\n",
      "TimeUnder      int64\n",
      "              ...   \n",
      "Win_Prob     float64\n",
      "WPA          float64\n",
      "airWPA       float64\n",
      "yacWPA       float64\n",
      "Season         int64\n",
      "Length: 100, dtype: object\n"
     ]
    }
   ],
   "source": [
    "types = football_df.dtypes\n",
    "#print(\"Number categorical featues:\", sum(types=='object'))\n",
    "print(types)"
   ]
  },
  {
   "cell_type": "code",
   "execution_count": 8,
   "metadata": {
    "pycharm": {
     "name": "#%%\n"
    }
   },
   "outputs": [
    {
     "data": {
      "text/html": [
       "<div>\n",
       "<style scoped>\n",
       "    .dataframe tbody tr th:only-of-type {\n",
       "        vertical-align: middle;\n",
       "    }\n",
       "\n",
       "    .dataframe tbody tr th {\n",
       "        vertical-align: top;\n",
       "    }\n",
       "\n",
       "    .dataframe thead th {\n",
       "        text-align: right;\n",
       "    }\n",
       "</style>\n",
       "<table border=\"1\" class=\"dataframe\">\n",
       "  <thead>\n",
       "    <tr style=\"text-align: right;\">\n",
       "      <th></th>\n",
       "      <th>GameID</th>\n",
       "      <th>Drive</th>\n",
       "      <th>qtr</th>\n",
       "      <th>down</th>\n",
       "      <th>TimeUnder</th>\n",
       "      <th>TimeSecs</th>\n",
       "      <th>PlayTimeDiff</th>\n",
       "      <th>yrdln</th>\n",
       "      <th>yrdline100</th>\n",
       "      <th>ydstogo</th>\n",
       "      <th>...</th>\n",
       "      <th>yacEPA</th>\n",
       "      <th>Home_WP_pre</th>\n",
       "      <th>Away_WP_pre</th>\n",
       "      <th>Home_WP_post</th>\n",
       "      <th>Away_WP_post</th>\n",
       "      <th>Win_Prob</th>\n",
       "      <th>WPA</th>\n",
       "      <th>airWPA</th>\n",
       "      <th>yacWPA</th>\n",
       "      <th>Season</th>\n",
       "    </tr>\n",
       "  </thead>\n",
       "  <tbody>\n",
       "    <tr>\n",
       "      <th>count</th>\n",
       "      <td>1.000000e+04</td>\n",
       "      <td>10000.000000</td>\n",
       "      <td>10000.000000</td>\n",
       "      <td>8448.000000</td>\n",
       "      <td>10000.000000</td>\n",
       "      <td>9992.000000</td>\n",
       "      <td>9984.000000</td>\n",
       "      <td>9980.000000</td>\n",
       "      <td>9980.000000</td>\n",
       "      <td>10000.000000</td>\n",
       "      <td>...</td>\n",
       "      <td>3929.000000</td>\n",
       "      <td>9357.000000</td>\n",
       "      <td>9357.000000</td>\n",
       "      <td>9309.000000</td>\n",
       "      <td>9309.000000</td>\n",
       "      <td>10000.000000</td>\n",
       "      <td>9.845000e+03</td>\n",
       "      <td>3930.000000</td>\n",
       "      <td>3923.000000</td>\n",
       "      <td>10000.0</td>\n",
       "    </tr>\n",
       "    <tr>\n",
       "      <th>mean</th>\n",
       "      <td>2.016372e+09</td>\n",
       "      <td>12.444900</td>\n",
       "      <td>2.584500</td>\n",
       "      <td>1.991951</td>\n",
       "      <td>7.322400</td>\n",
       "      <td>1686.264011</td>\n",
       "      <td>20.739283</td>\n",
       "      <td>28.566433</td>\n",
       "      <td>47.859218</td>\n",
       "      <td>7.158400</td>\n",
       "      <td>...</td>\n",
       "      <td>-0.400785</td>\n",
       "      <td>0.547408</td>\n",
       "      <td>0.453126</td>\n",
       "      <td>0.547667</td>\n",
       "      <td>0.452708</td>\n",
       "      <td>0.470946</td>\n",
       "      <td>1.673133e-03</td>\n",
       "      <td>0.014596</td>\n",
       "      <td>-0.009764</td>\n",
       "      <td>2016.0</td>\n",
       "    </tr>\n",
       "    <tr>\n",
       "      <th>std</th>\n",
       "      <td>3.996451e+05</td>\n",
       "      <td>7.075561</td>\n",
       "      <td>1.131542</td>\n",
       "      <td>1.006399</td>\n",
       "      <td>4.685216</td>\n",
       "      <td>1064.437980</td>\n",
       "      <td>20.795996</td>\n",
       "      <td>12.533362</td>\n",
       "      <td>24.737534</td>\n",
       "      <td>4.844632</td>\n",
       "      <td>...</td>\n",
       "      <td>2.008014</td>\n",
       "      <td>0.300660</td>\n",
       "      <td>0.300744</td>\n",
       "      <td>0.302591</td>\n",
       "      <td>0.302650</td>\n",
       "      <td>0.319106</td>\n",
       "      <td>4.684680e-02</td>\n",
       "      <td>0.056720</td>\n",
       "      <td>0.065689</td>\n",
       "      <td>0.0</td>\n",
       "    </tr>\n",
       "    <tr>\n",
       "      <th>min</th>\n",
       "      <td>2.016121e+09</td>\n",
       "      <td>1.000000</td>\n",
       "      <td>1.000000</td>\n",
       "      <td>1.000000</td>\n",
       "      <td>0.000000</td>\n",
       "      <td>-849.000000</td>\n",
       "      <td>0.000000</td>\n",
       "      <td>1.000000</td>\n",
       "      <td>1.000000</td>\n",
       "      <td>0.000000</td>\n",
       "      <td>...</td>\n",
       "      <td>-12.156367</td>\n",
       "      <td>0.000000</td>\n",
       "      <td>0.000000</td>\n",
       "      <td>0.000000</td>\n",
       "      <td>0.000000</td>\n",
       "      <td>0.000000</td>\n",
       "      <td>-9.719480e-01</td>\n",
       "      <td>-0.943119</td>\n",
       "      <td>-0.939447</td>\n",
       "      <td>2016.0</td>\n",
       "    </tr>\n",
       "    <tr>\n",
       "      <th>25%</th>\n",
       "      <td>2.016122e+09</td>\n",
       "      <td>6.000000</td>\n",
       "      <td>2.000000</td>\n",
       "      <td>1.000000</td>\n",
       "      <td>3.000000</td>\n",
       "      <td>772.000000</td>\n",
       "      <td>5.000000</td>\n",
       "      <td>19.000000</td>\n",
       "      <td>29.000000</td>\n",
       "      <td>3.000000</td>\n",
       "      <td>...</td>\n",
       "      <td>-0.950799</td>\n",
       "      <td>0.298087</td>\n",
       "      <td>0.183309</td>\n",
       "      <td>0.295898</td>\n",
       "      <td>0.179571</td>\n",
       "      <td>0.172491</td>\n",
       "      <td>-1.375776e-02</td>\n",
       "      <td>-0.009758</td>\n",
       "      <td>-0.017638</td>\n",
       "      <td>2016.0</td>\n",
       "    </tr>\n",
       "    <tr>\n",
       "      <th>50%</th>\n",
       "      <td>2.016122e+09</td>\n",
       "      <td>12.000000</td>\n",
       "      <td>3.000000</td>\n",
       "      <td>2.000000</td>\n",
       "      <td>7.000000</td>\n",
       "      <td>1800.000000</td>\n",
       "      <td>18.000000</td>\n",
       "      <td>30.000000</td>\n",
       "      <td>48.000000</td>\n",
       "      <td>9.000000</td>\n",
       "      <td>...</td>\n",
       "      <td>0.000000</td>\n",
       "      <td>0.565156</td>\n",
       "      <td>0.435096</td>\n",
       "      <td>0.568334</td>\n",
       "      <td>0.431754</td>\n",
       "      <td>0.486653</td>\n",
       "      <td>-7.985673e-07</td>\n",
       "      <td>0.004151</td>\n",
       "      <td>0.000000</td>\n",
       "      <td>2016.0</td>\n",
       "    </tr>\n",
       "    <tr>\n",
       "      <th>75%</th>\n",
       "      <td>2.017010e+09</td>\n",
       "      <td>18.000000</td>\n",
       "      <td>4.000000</td>\n",
       "      <td>3.000000</td>\n",
       "      <td>11.000000</td>\n",
       "      <td>2575.000000</td>\n",
       "      <td>37.000000</td>\n",
       "      <td>38.000000</td>\n",
       "      <td>69.000000</td>\n",
       "      <td>10.000000</td>\n",
       "      <td>...</td>\n",
       "      <td>0.469628</td>\n",
       "      <td>0.817714</td>\n",
       "      <td>0.702465</td>\n",
       "      <td>0.820549</td>\n",
       "      <td>0.705156</td>\n",
       "      <td>0.750169</td>\n",
       "      <td>1.278280e-02</td>\n",
       "      <td>0.033391</td>\n",
       "      <td>0.009991</td>\n",
       "      <td>2016.0</td>\n",
       "    </tr>\n",
       "    <tr>\n",
       "      <th>max</th>\n",
       "      <td>2.017010e+09</td>\n",
       "      <td>30.000000</td>\n",
       "      <td>5.000000</td>\n",
       "      <td>4.000000</td>\n",
       "      <td>15.000000</td>\n",
       "      <td>3600.000000</td>\n",
       "      <td>908.000000</td>\n",
       "      <td>50.000000</td>\n",
       "      <td>99.000000</td>\n",
       "      <td>36.000000</td>\n",
       "      <td>...</td>\n",
       "      <td>8.079540</td>\n",
       "      <td>1.000000</td>\n",
       "      <td>1.000000</td>\n",
       "      <td>1.000000</td>\n",
       "      <td>1.000000</td>\n",
       "      <td>1.000000</td>\n",
       "      <td>9.739204e-01</td>\n",
       "      <td>0.898214</td>\n",
       "      <td>0.932194</td>\n",
       "      <td>2016.0</td>\n",
       "    </tr>\n",
       "  </tbody>\n",
       "</table>\n",
       "<p>8 rows × 64 columns</p>\n",
       "</div>"
      ],
      "text/plain": [
       "             GameID         Drive           qtr         down     TimeUnder  \\\n",
       "count  1.000000e+04  10000.000000  10000.000000  8448.000000  10000.000000   \n",
       "mean   2.016372e+09     12.444900      2.584500     1.991951      7.322400   \n",
       "std    3.996451e+05      7.075561      1.131542     1.006399      4.685216   \n",
       "min    2.016121e+09      1.000000      1.000000     1.000000      0.000000   \n",
       "25%    2.016122e+09      6.000000      2.000000     1.000000      3.000000   \n",
       "50%    2.016122e+09     12.000000      3.000000     2.000000      7.000000   \n",
       "75%    2.017010e+09     18.000000      4.000000     3.000000     11.000000   \n",
       "max    2.017010e+09     30.000000      5.000000     4.000000     15.000000   \n",
       "\n",
       "          TimeSecs  PlayTimeDiff        yrdln   yrdline100       ydstogo  ...  \\\n",
       "count  9992.000000   9984.000000  9980.000000  9980.000000  10000.000000  ...   \n",
       "mean   1686.264011     20.739283    28.566433    47.859218      7.158400  ...   \n",
       "std    1064.437980     20.795996    12.533362    24.737534      4.844632  ...   \n",
       "min    -849.000000      0.000000     1.000000     1.000000      0.000000  ...   \n",
       "25%     772.000000      5.000000    19.000000    29.000000      3.000000  ...   \n",
       "50%    1800.000000     18.000000    30.000000    48.000000      9.000000  ...   \n",
       "75%    2575.000000     37.000000    38.000000    69.000000     10.000000  ...   \n",
       "max    3600.000000    908.000000    50.000000    99.000000     36.000000  ...   \n",
       "\n",
       "            yacEPA  Home_WP_pre  Away_WP_pre  Home_WP_post  Away_WP_post  \\\n",
       "count  3929.000000  9357.000000  9357.000000   9309.000000   9309.000000   \n",
       "mean     -0.400785     0.547408     0.453126      0.547667      0.452708   \n",
       "std       2.008014     0.300660     0.300744      0.302591      0.302650   \n",
       "min     -12.156367     0.000000     0.000000      0.000000      0.000000   \n",
       "25%      -0.950799     0.298087     0.183309      0.295898      0.179571   \n",
       "50%       0.000000     0.565156     0.435096      0.568334      0.431754   \n",
       "75%       0.469628     0.817714     0.702465      0.820549      0.705156   \n",
       "max       8.079540     1.000000     1.000000      1.000000      1.000000   \n",
       "\n",
       "           Win_Prob           WPA       airWPA       yacWPA   Season  \n",
       "count  10000.000000  9.845000e+03  3930.000000  3923.000000  10000.0  \n",
       "mean       0.470946  1.673133e-03     0.014596    -0.009764   2016.0  \n",
       "std        0.319106  4.684680e-02     0.056720     0.065689      0.0  \n",
       "min        0.000000 -9.719480e-01    -0.943119    -0.939447   2016.0  \n",
       "25%        0.172491 -1.375776e-02    -0.009758    -0.017638   2016.0  \n",
       "50%        0.486653 -7.985673e-07     0.004151     0.000000   2016.0  \n",
       "75%        0.750169  1.278280e-02     0.033391     0.009991   2016.0  \n",
       "max        1.000000  9.739204e-01     0.898214     0.932194   2016.0  \n",
       "\n",
       "[8 rows x 64 columns]"
      ]
     },
     "execution_count": 8,
     "metadata": {},
     "output_type": "execute_result"
    }
   ],
   "source": [
    "football_df.describe()"
   ]
  },
  {
   "cell_type": "markdown",
   "metadata": {},
   "source": [
    "## 3. Profiling the data"
   ]
  },
  {
   "cell_type": "code",
   "execution_count": 10,
   "metadata": {},
   "outputs": [
    {
     "data": {
      "application/vnd.jupyter.widget-view+json": {
       "model_id": "18b71ca77864464c95d217310e5c3ef9",
       "version_major": 2,
       "version_minor": 0
      },
      "text/plain": [
       "Summarize dataset:   0%|          | 0/5 [00:00<?, ?it/s]"
      ]
     },
     "metadata": {},
     "output_type": "display_data"
    },
    {
     "data": {
      "application/vnd.jupyter.widget-view+json": {
       "model_id": "d6bb20b8723e480c9976faced693e18d",
       "version_major": 2,
       "version_minor": 0
      },
      "text/plain": [
       "Generate report structure:   0%|          | 0/1 [00:00<?, ?it/s]"
      ]
     },
     "metadata": {},
     "output_type": "display_data"
    },
    {
     "data": {
      "application/vnd.jupyter.widget-view+json": {
       "model_id": "78b224c38993445d99b712987df1a518",
       "version_major": 2,
       "version_minor": 0
      },
      "text/plain": [
       "Render HTML:   0%|          | 0/1 [00:00<?, ?it/s]"
      ]
     },
     "metadata": {},
     "output_type": "display_data"
    },
    {
     "data": {
      "application/vnd.jupyter.widget-view+json": {
       "model_id": "abb27a98a5a04ce69dcdd541b354aada",
       "version_major": 2,
       "version_minor": 0
      },
      "text/plain": [
       "Export report to file:   0%|          | 0/1 [00:00<?, ?it/s]"
      ]
     },
     "metadata": {},
     "output_type": "display_data"
    },
    {
     "data": {
      "image/png": "[encoded data removed]",
      "text/plain": [
       "<Figure size 1000x1000 with 2 Axes>"
      ]
     },
     "metadata": {},
     "output_type": "display_data"
    }
   ],
   "source": [
    "from ydata_profiling import ProfileReport  #doesn't work\n",
    "#pip install ydata-profiling\n",
    "report = ProfileReport(football_df)\n",
    "report.to_file('data_profile_report.html')"
   ]
  },
  {
   "cell_type": "markdown",
   "metadata": {},
   "source": [
    "### One-hot-encoding of categorical feature\n",
    "1. Why to encode the categorical feature? - потому что алгоритмы машинного обучения требуют на вход числовые признаки\n",
    "2. Why one-hot-encoding form? why not give each category in the feature a specific code value? -- чтобы избежать порядка \n",
    "3. How many new features will be added? What if we have some missing values, which is the case in this dataset? ---- сумма кол-во вариаций категориального признака по всем категориальным признакам\n",
    "4. When is it appropriate to give each category an encoding value? когда сузществует порядковая связь\n",
    "\n",
    "\n",
    "<span style=\"color:red\"> Task : In the next cell, implement the function that take a dataframe, name of the categorical feature, and the encoder object. Then, adds new features that represent the one-hot-encoding form of this feature and ignore the missing values in it (encode them to zeros)."
   ]
  },
  {
   "cell_type": "code",
   "execution_count": 25,
   "metadata": {},
   "outputs": [
    {
     "name": "stdout",
     "output_type": "stream",
     "text": [
      "36\n"
     ]
    }
   ],
   "source": [
    "cat_feats = football_df.select_dtypes(include=['object']).columns.tolist()\n",
    "print(len(cat_feats))"
   ]
  },
  {
   "cell_type": "code",
   "execution_count": 27,
   "metadata": {
    "pycharm": {
     "name": "#%%\n"
    }
   },
   "outputs": [
    {
     "name": "stdout",
     "output_type": "stream",
     "text": [
      "36\n",
      "(10000, 100)\n",
      "(10000, 13035)\n",
      "          GameID  Drive  qtr  down  TimeUnder  TimeSecs  PlayTimeDiff  \\\n",
      "0     2016121101     13    2   NaN          2    1920.0           5.0   \n",
      "1     2016121101     13    2   1.0          2    1920.0           0.0   \n",
      "2     2016121101     13    2   1.0          2    1910.0          10.0   \n",
      "3     2016121101     13    2   2.0          2    1877.0          33.0   \n",
      "4     2016121101     13    2   3.0          2    1868.0           9.0   \n",
      "...          ...    ...  ...   ...        ...       ...           ...   \n",
      "9995  2017010102     20    4   1.0          1      22.0           6.0   \n",
      "9996  2017010102     20    4   NaN          1      13.0           9.0   \n",
      "9997  2017010102     21    4   NaN          1      13.0           0.0   \n",
      "9998  2017010102     21    4   1.0          1      12.0           1.0   \n",
      "9999  2017010102     21    4   NaN          0       0.0          12.0   \n",
      "\n",
      "      SideofField_1  SideofField_2  SideofField_3  ...    yacEPA  Home_WP_pre  \\\n",
      "0                 1              0              0  ...       NaN          NaN   \n",
      "1                 1              0              0  ...  0.330475     0.968025   \n",
      "2                 0              1              0  ...       NaN     0.940170   \n",
      "3                 0              1              0  ... -3.766159     0.947575   \n",
      "4                 0              1              0  ...  0.000000     0.953601   \n",
      "...             ...            ...            ...  ...       ...          ...   \n",
      "9995              0              0              0  ...  0.000000     0.051901   \n",
      "9996              0              0              0  ...       NaN     0.093435   \n",
      "9997              0              0              0  ...       NaN     0.034069   \n",
      "9998              0              0              0  ...       NaN     0.035708   \n",
      "9999              0              0              0  ...       NaN     0.000000   \n",
      "\n",
      "      Away_WP_pre  Home_WP_post  Away_WP_post  Win_Prob       WPA    airWPA  \\\n",
      "0             NaN           NaN           NaN  0.000000       NaN       NaN   \n",
      "1        0.031975      0.940170      0.059830  0.031975  0.027855  0.024299   \n",
      "2        0.059830      0.947575      0.052425  0.059830 -0.007405       NaN   \n",
      "3        0.052425      0.953601      0.046399  0.052425 -0.006025  0.036136   \n",
      "4        0.046399      0.912354      0.087646  0.046399  0.041247  0.041247   \n",
      "...           ...           ...           ...       ...       ...       ...   \n",
      "9995     0.948099      0.093435      0.906565  0.051901  0.041534  0.041534   \n",
      "9996     0.906565      0.034069      0.965931  0.093435 -0.059366       NaN   \n",
      "9997     0.965931      0.035708      0.964292  0.965931 -0.001639       NaN   \n",
      "9998     0.964292      0.000000      1.000000  0.964292  0.035708       NaN   \n",
      "9999     1.000000      0.000000      1.000000  0.934245  0.000000       NaN   \n",
      "\n",
      "        yacWPA  Season  \n",
      "0          NaN    2016  \n",
      "1     0.003556    2016  \n",
      "2          NaN    2016  \n",
      "3    -0.042161    2016  \n",
      "4     0.000000    2016  \n",
      "...        ...     ...  \n",
      "9995  0.000000    2016  \n",
      "9996       NaN    2016  \n",
      "9997       NaN    2016  \n",
      "9998       NaN    2016  \n",
      "9999       NaN    2016  \n",
      "\n",
      "[10000 rows x 13035 columns]\n"
     ]
    }
   ],
   "source": [
    "from category_encoders import OneHotEncoder\n",
    "#pip install category-encoders\n",
    "#название колонок, содержащее категориальные признаки\n",
    "cat_feats = football_df.select_dtypes(include=['object']).columns.tolist()\n",
    "print(len(cat_feats))\n",
    "print(football_df.shape)\n",
    "encoder = OneHotEncoder(cols=cat_feats, handle_unknown='ignore')\n",
    "encoder.fit(football_df)\n",
    "# Write your code here (1 line)\n",
    "# Transform the data \n",
    "encoded_data = encoder.transform(football_df)\n",
    "print(encoded_data.shape)\n",
    "print(encoded_data)\n",
    "\n",
    "#def my_encoder(dataframe, feature):\n",
    "#    encoder = OneHotEncoder(cols=feature, handle_unknown='ignore')\n",
    "#    encoder.fit(dataframe)\n",
    "#    encoded_data = encoder.transform(dataframe)\n",
    "#    return encoded_data\n",
    "#print(my_encoder(football_df, ['SideofField']))"
   ]
  },
  {
   "cell_type": "markdown",
   "metadata": {},
   "source": [
    "## 4. Data Imputation\n",
    "#### Imputation is filling the missing values in the dataset.\n",
    "Several issues to address:\n",
    "1. Why we should fill them? Why not remove the rows that has missing values? we may lose valuable information on that feature, as we have deleted it completely due to some null values\n",
    "2. Filling it with constant value for each value, but what's it? mean, median, mode, knn\n",
    "3. (Advanced) Estimate the filling value, each row for its own.\n",
    "4. How to choose the imputation strategy? \n",
    "5. (Not related only to imputations) Why we fit the imputer to the training data not the concatenation of both train and test set?\n",
    "https://4geeks.com/lesson/how-to-deal-with-missing-values\n",
    "https://tproger.ru/translations/data-imputation\n",
    "\n",
    "<span style=\"color:red\">Task :  In the next cell, implement a function that returns the count of nan/empty cells in a dataframe.</span><br>\n",
    "<span style=\"color:red\">Task : Use SimpleImputer object, fit it to the trainset, then transform both the train and test sets.</span>"
   ]
  },
  {
   "cell_type": "code",
   "execution_count": 43,
   "metadata": {},
   "outputs": [
    {
     "name": "stdout",
     "output_type": "stream",
     "text": [
      "      GameID  Drive    qtr   down  TimeUnder  TimeSecs  PlayTimeDiff  \\\n",
      "0      False  False  False   True      False     False         False   \n",
      "1      False  False  False  False      False     False         False   \n",
      "2      False  False  False  False      False     False         False   \n",
      "3      False  False  False  False      False     False         False   \n",
      "4      False  False  False  False      False     False         False   \n",
      "...      ...    ...    ...    ...        ...       ...           ...   \n",
      "9995   False  False  False  False      False     False         False   \n",
      "9996   False  False  False   True      False     False         False   \n",
      "9997   False  False  False   True      False     False         False   \n",
      "9998   False  False  False  False      False     False         False   \n",
      "9999   False  False  False   True      False     False         False   \n",
      "\n",
      "      SideofField  yrdln  yrdline100  ...  yacEPA  Home_WP_pre  Away_WP_pre  \\\n",
      "0           False  False       False  ...    True         True         True   \n",
      "1           False  False       False  ...   False        False        False   \n",
      "2           False  False       False  ...    True        False        False   \n",
      "3           False  False       False  ...   False        False        False   \n",
      "4           False  False       False  ...   False        False        False   \n",
      "...           ...    ...         ...  ...     ...          ...          ...   \n",
      "9995        False  False       False  ...   False        False        False   \n",
      "9996        False  False       False  ...    True        False        False   \n",
      "9997        False  False       False  ...    True        False        False   \n",
      "9998        False  False       False  ...    True        False        False   \n",
      "9999        False  False       False  ...    True        False        False   \n",
      "\n",
      "      Home_WP_post  Away_WP_post  Win_Prob    WPA  airWPA  yacWPA  Season  \n",
      "0             True          True     False   True    True    True   False  \n",
      "1            False         False     False  False   False   False   False  \n",
      "2            False         False     False  False    True    True   False  \n",
      "3            False         False     False  False   False   False   False  \n",
      "4            False         False     False  False   False   False   False  \n",
      "...            ...           ...       ...    ...     ...     ...     ...  \n",
      "9995         False         False     False  False   False   False   False  \n",
      "9996         False         False     False  False    True    True   False  \n",
      "9997         False         False     False  False    True    True   False  \n",
      "9998         False         False     False  False    True    True   False  \n",
      "9999         False         False     False  False    True    True   False  \n",
      "\n",
      "[10000 rows x 100 columns]\n",
      "          GameID  Drive  qtr  down  TimeUnder  TimeSecs  PlayTimeDiff  \\\n",
      "0     2016121101     13    2   NaN          2    1920.0           5.0   \n",
      "1     2016121101     13    2   1.0          2    1920.0           0.0   \n",
      "2     2016121101     13    2   1.0          2    1910.0          10.0   \n",
      "3     2016121101     13    2   2.0          2    1877.0          33.0   \n",
      "4     2016121101     13    2   3.0          2    1868.0           9.0   \n",
      "...          ...    ...  ...   ...        ...       ...           ...   \n",
      "9995  2017010102     20    4   1.0          1      22.0           6.0   \n",
      "9996  2017010102     20    4   NaN          1      13.0           9.0   \n",
      "9997  2017010102     21    4   NaN          1      13.0           0.0   \n",
      "9998  2017010102     21    4   1.0          1      12.0           1.0   \n",
      "9999  2017010102     21    4   NaN          0       0.0          12.0   \n",
      "\n",
      "     SideofField  yrdln  yrdline100  ...    yacEPA  Home_WP_pre  Away_WP_pre  \\\n",
      "0             SD   44.0        44.0  ...       NaN          NaN          NaN   \n",
      "1             SD   47.0        53.0  ...  0.330475     0.968025     0.031975   \n",
      "2            CAR    7.0         7.0  ...       NaN     0.940170     0.059830   \n",
      "3            CAR    9.0         9.0  ... -3.766159     0.947575     0.052425   \n",
      "4            CAR    9.0         9.0  ...  0.000000     0.953601     0.046399   \n",
      "...          ...    ...         ...  ...       ...          ...          ...   \n",
      "9995          GB   35.0        35.0  ...  0.000000     0.051901     0.948099   \n",
      "9996          GB   15.0        15.0  ...       NaN     0.093435     0.906565   \n",
      "9997         DET   35.0        35.0  ...       NaN     0.034069     0.965931   \n",
      "9998         DET   46.0        46.0  ...       NaN     0.035708     0.964292   \n",
      "9999         DET   46.0        46.0  ...       NaN     0.000000     1.000000   \n",
      "\n",
      "      Home_WP_post Away_WP_post  Win_Prob       WPA    airWPA    yacWPA  \\\n",
      "0              NaN          NaN  0.000000       NaN       NaN       NaN   \n",
      "1         0.940170     0.059830  0.031975  0.027855  0.024299  0.003556   \n",
      "2         0.947575     0.052425  0.059830 -0.007405       NaN       NaN   \n",
      "3         0.953601     0.046399  0.052425 -0.006025  0.036136 -0.042161   \n",
      "4         0.912354     0.087646  0.046399  0.041247  0.041247  0.000000   \n",
      "...            ...          ...       ...       ...       ...       ...   \n",
      "9995      0.093435     0.906565  0.051901  0.041534  0.041534  0.000000   \n",
      "9996      0.034069     0.965931  0.093435 -0.059366       NaN       NaN   \n",
      "9997      0.035708     0.964292  0.965931 -0.001639       NaN       NaN   \n",
      "9998      0.000000     1.000000  0.964292  0.035708       NaN       NaN   \n",
      "9999      0.000000     1.000000  0.934245  0.000000       NaN       NaN   \n",
      "\n",
      "      Season  \n",
      "0       2016  \n",
      "1       2016  \n",
      "2       2016  \n",
      "3       2016  \n",
      "4       2016  \n",
      "...      ...  \n",
      "9995    2016  \n",
      "9996    2016  \n",
      "9997    2016  \n",
      "9998    2016  \n",
      "9999    2016  \n",
      "\n",
      "[10000 rows x 100 columns]\n"
     ]
    }
   ],
   "source": [
    "print(pd.isnull(football_df))\n",
    "print(football_df)"
   ]
  },
  {
   "cell_type": "code",
   "execution_count": 47,
   "metadata": {
    "pycharm": {
     "name": "#%%\n"
    }
   },
   "outputs": [
    {
     "name": "stdout",
     "output_type": "stream",
     "text": [
      "#Empty missing data cells in the dataset =  281986 281986\n",
      "After Imputing:\n",
      "#Empty cells in dataset = 0\n"
     ]
    }
   ],
   "source": [
    "from sklearn.impute import SimpleImputer\n",
    "import numpy as np\n",
    "import pandas as pd\n",
    "\n",
    "#TODO: Complete a function that returns number of empty cells \n",
    "def count_nans(df):\n",
    "    bool_series = pd.isnull(df)\n",
    "    missing_values_count = bool_series.sum().sum()\n",
    "    return missing_values_count\n",
    "\n",
    "# Print number of empty cells (1 line)\n",
    "sum = 0\n",
    "for k in range(len(football_df)):\n",
    "    sum += count_nans(football_df.iloc[k])\n",
    "print(\"#Empty missing data cells in the dataset = \", sum, count_nans(football_df))\n",
    "\n",
    "# Write your code here (3-4 lines):\n",
    "# create the imputer object\n",
    "imputer = SimpleImputer(missing_values = np.nan, \n",
    "                        strategy ='mean')\n",
    "# fit the imputer.\n",
    "imputer = imputer.fit(encoded_data)\n",
    "# transform the data\n",
    "imputed_data = imputer.transform(encoded_data)\n",
    "print(\"After Imputing:\")\n",
    "# Print number of empty cells in the data(1 line)\n",
    "print(\"#Empty cells in dataset =\", count_nans(imputed_data))\n",
    "imputed_data = pd.DataFrame(imputed_data, columns=encoded_data.columns)\n"
   ]
  },
  {
   "cell_type": "markdown",
   "metadata": {},
   "source": [
    "## 5. Features Scaling\n",
    "1. Why we need to make all the features have same range of values?\n",
    "<span style=\"color:blue\"> This has something to do with some machine learning algorithms.\n",
    "First, gradient-related algorithms (e.g., linear regression, logisitic regression, deep learning algorithms): feature scaling is important for the congergence of the algorithms as the gradient in one direction/feature could need more/long steps than the others and the scaling solves this issue and make the training stable and relatively faster.\n",
    "Second, distance related algorithms (e.g., KNN, K-means). These algorithms depends on the distance between samples both in training and testing. Having features with different ranges would affect the distance measure and produce biased prediciton to the features with larger range.\n",
    "for example: having two features (length in KM [10: 10000] and temperature in C° [20: 40]). The distance value will be much affected by the length feature.</span>\n",
    "\n",
    "1. What are the different strategies to scale the features? <br>\n",
    "    * <span style=\"color:blue\">Min-Max scaling: transform all features to fall in this range: [0, 1].</span><br>\n",
    "$$x_i = \\frac{x_i - min(\\mathbf{x})}{max(\\mathbf{x}) - min(\\mathbf{x})}$$\n",
    "    * <span style=\"color:blue\">Standard scaling: transform all features to have mean = 0 and standard deviation = 1. And by assuming that all features follow normal distribution, we can say that standard scaling turns featrues to be $\\sim N(0,1)$.</span> <br>\n",
    "$$x_i = \\frac{x_i - mean(\\mathbf{x})}{stdev(\\mathbf{x})}$$ <br>\n",
    "    * <span style=\"color:blue\">Robust scaling: robust to the outliers that may affect the previous methods in calculating their mean, stdev, min, or max. It uses the interquartile range to scale the features according to it.\n",
    "Interquartile is the range between the 1st quartile and 3rd quartile.</span> <br>\n",
    "$$x_i = \\frac{x_i - Q_1(\\mathbf{x})}{Q_3(\\mathbf{x}) - Q_1(\\mathbf{x})}$$ \n",
    "\n",
    "3. How to choose the strategy?\n",
    "<span style=\"color:blue\">Same as in imputation strategy, using a validation set or using cross-validation.\n",
    "\n",
    "<span style=\"color:red\">  In the following cell, scale all the features with a scaler from your choice. Fit the scaler on the full data set and transform both it.</span>"
   ]
  },
  {
   "cell_type": "code",
   "execution_count": 22,
   "metadata": {},
   "outputs": [
    {
     "name": "stdout",
     "output_type": "stream",
     "text": [
      "            GameID  Drive  qtr      down  TimeUnder  TimeSecs  PlayTimeDiff  \\\n",
      "0     2.016121e+09   13.0  2.0  1.991951        2.0    1920.0           5.0   \n",
      "1     2.016121e+09   13.0  2.0  1.000000        2.0    1920.0           0.0   \n",
      "2     2.016121e+09   13.0  2.0  1.000000        2.0    1910.0          10.0   \n",
      "3     2.016121e+09   13.0  2.0  2.000000        2.0    1877.0          33.0   \n",
      "4     2.016121e+09   13.0  2.0  3.000000        2.0    1868.0           9.0   \n",
      "...            ...    ...  ...       ...        ...       ...           ...   \n",
      "9995  2.017010e+09   20.0  4.0  1.000000        1.0      22.0           6.0   \n",
      "9996  2.017010e+09   20.0  4.0  1.991951        1.0      13.0           9.0   \n",
      "9997  2.017010e+09   21.0  4.0  1.991951        1.0      13.0           0.0   \n",
      "9998  2.017010e+09   21.0  4.0  1.000000        1.0      12.0           1.0   \n",
      "9999  2.017010e+09   21.0  4.0  1.991951        0.0       0.0          12.0   \n",
      "\n",
      "      SideofField_1  SideofField_2  SideofField_3  ...    yacEPA  Home_WP_pre  \\\n",
      "0               1.0            0.0            0.0  ... -0.400785     0.547408   \n",
      "1               1.0            0.0            0.0  ...  0.330475     0.968025   \n",
      "2               0.0            1.0            0.0  ... -0.400785     0.940170   \n",
      "3               0.0            1.0            0.0  ... -3.766159     0.947575   \n",
      "4               0.0            1.0            0.0  ...  0.000000     0.953601   \n",
      "...             ...            ...            ...  ...       ...          ...   \n",
      "9995            0.0            0.0            0.0  ...  0.000000     0.051901   \n",
      "9996            0.0            0.0            0.0  ... -0.400785     0.093435   \n",
      "9997            0.0            0.0            0.0  ... -0.400785     0.034069   \n",
      "9998            0.0            0.0            0.0  ... -0.400785     0.035708   \n",
      "9999            0.0            0.0            0.0  ... -0.400785     0.000000   \n",
      "\n",
      "      Away_WP_pre  Home_WP_post  Away_WP_post  Win_Prob       WPA    airWPA  \\\n",
      "0        0.453126      0.547667      0.452708  0.000000  0.001673  0.014596   \n",
      "1        0.031975      0.940170      0.059830  0.031975  0.027855  0.024299   \n",
      "2        0.059830      0.947575      0.052425  0.059830 -0.007405  0.014596   \n",
      "3        0.052425      0.953601      0.046399  0.052425 -0.006025  0.036136   \n",
      "4        0.046399      0.912354      0.087646  0.046399  0.041247  0.041247   \n",
      "...           ...           ...           ...       ...       ...       ...   \n",
      "9995     0.948099      0.093435      0.906565  0.051901  0.041534  0.041534   \n",
      "9996     0.906565      0.034069      0.965931  0.093435 -0.059366  0.014596   \n",
      "9997     0.965931      0.035708      0.964292  0.965931 -0.001639  0.014596   \n",
      "9998     0.964292      0.000000      1.000000  0.964292  0.035708  0.014596   \n",
      "9999     1.000000      0.000000      1.000000  0.934245  0.000000  0.014596   \n",
      "\n",
      "        yacWPA  Season  \n",
      "0    -0.009764  2016.0  \n",
      "1     0.003556  2016.0  \n",
      "2    -0.009764  2016.0  \n",
      "3    -0.042161  2016.0  \n",
      "4     0.000000  2016.0  \n",
      "...        ...     ...  \n",
      "9995  0.000000  2016.0  \n",
      "9996 -0.009764  2016.0  \n",
      "9997 -0.009764  2016.0  \n",
      "9998 -0.009764  2016.0  \n",
      "9999 -0.009764  2016.0  \n",
      "\n",
      "[10000 rows x 13035 columns]\n"
     ]
    }
   ],
   "source": [
    "print(imputed_data)"
   ]
  },
  {
   "cell_type": "code",
   "execution_count": 49,
   "metadata": {
    "pycharm": {
     "name": "#%%\n"
    }
   },
   "outputs": [
    {
     "name": "stdout",
     "output_type": "stream",
     "text": [
      "        GameID     Drive  qtr      down  TimeUnder  TimeSecs  PlayTimeDiff  \\\n",
      "0    -0.001465  0.083333 -0.5 -0.008049     -0.625  0.066583      -0.40625   \n",
      "1    -0.001465  0.083333 -0.5 -1.000000     -0.625  0.066583      -0.56250   \n",
      "2    -0.001465  0.083333 -0.5 -1.000000     -0.625  0.061035      -0.25000   \n",
      "3    -0.001465  0.083333 -0.5  0.000000     -0.625  0.042724       0.46875   \n",
      "4    -0.001465  0.083333 -0.5  1.000000     -0.625  0.037731      -0.28125   \n",
      "...        ...       ...  ...       ...        ...       ...           ...   \n",
      "9995  0.999327  0.666667  0.5 -1.000000     -0.750 -0.986545      -0.37500   \n",
      "9996  0.999327  0.666667  0.5 -0.008049     -0.750 -0.991538      -0.28125   \n",
      "9997  0.999327  0.750000  0.5 -0.008049     -0.750 -0.991538      -0.56250   \n",
      "9998  0.999327  0.750000  0.5 -1.000000     -0.750 -0.992093      -0.53125   \n",
      "9999  0.999327  0.750000  0.5 -0.008049     -0.875 -0.998752      -0.18750   \n",
      "\n",
      "      SideofField_1  SideofField_2  SideofField_3  ...    yacEPA  Home_WP_pre  \\\n",
      "0               1.0            0.0            0.0  ...  0.000000     0.000000   \n",
      "1               1.0            0.0            0.0  ...  1.825346     0.886112   \n",
      "2               0.0            1.0            0.0  ...  0.000000     0.827430   \n",
      "3               0.0            1.0            0.0  ... -8.400533     0.843030   \n",
      "4               0.0            1.0            0.0  ...  1.000426     0.855724   \n",
      "...             ...            ...            ...  ...       ...          ...   \n",
      "9995            0.0            0.0            0.0  ...  1.000426    -1.043883   \n",
      "9996            0.0            0.0            0.0  ...  0.000000    -0.956383   \n",
      "9997            0.0            0.0            0.0  ...  0.000000    -1.081450   \n",
      "9998            0.0            0.0            0.0  ...  0.000000    -1.077997   \n",
      "9999            0.0            0.0            0.0  ...  0.000000    -1.153223   \n",
      "\n",
      "      Away_WP_pre  Home_WP_post  Away_WP_post  Win_Prob       WPA    airWPA  \\\n",
      "0        0.000000      0.000000      0.000000 -0.842430  0.065468  0.000000   \n",
      "1       -0.886499      0.821954     -0.822555 -0.787079  1.089942  0.009702   \n",
      "2       -0.827866      0.837461     -0.838058 -0.738860 -0.289749  0.000000   \n",
      "3       -0.843453      0.850079     -0.850673 -0.751679 -0.235764  0.021540   \n",
      "4       -0.856136      0.763703     -0.764317 -0.762109  1.613940  0.026650   \n",
      "...           ...           ...           ...       ...       ...       ...   \n",
      "9995     1.041889     -0.951221      0.950225 -0.752586  1.625200  0.026938   \n",
      "9996     0.954462     -1.075542      1.074519 -0.680687 -2.322953  0.000000   \n",
      "9997     1.079425     -1.072109      1.071087  0.829663 -0.064142  0.000000   \n",
      "9998     1.075974     -1.146887      1.145848  0.826825  1.397225  0.000000   \n",
      "9999     1.151138     -1.146887      1.145848  0.774811  0.000000  0.000000   \n",
      "\n",
      "        yacWPA  Season  \n",
      "0     0.000000     0.0  \n",
      "1     1.447457     0.0  \n",
      "2     0.000000     0.0  \n",
      "3    -3.520477     0.0  \n",
      "4     1.060994     0.0  \n",
      "...        ...     ...  \n",
      "9995  1.060994     0.0  \n",
      "9996  0.000000     0.0  \n",
      "9997  0.000000     0.0  \n",
      "9998  0.000000     0.0  \n",
      "9999  0.000000     0.0  \n",
      "\n",
      "[10000 rows x 13035 columns]\n",
      "          GameID  Drive  qtr  down  TimeUnder  TimeSecs  PlayTimeDiff  \\\n",
      "0     2016121101     13    2   NaN          2    1920.0           5.0   \n",
      "1     2016121101     13    2   1.0          2    1920.0           0.0   \n",
      "2     2016121101     13    2   1.0          2    1910.0          10.0   \n",
      "3     2016121101     13    2   2.0          2    1877.0          33.0   \n",
      "4     2016121101     13    2   3.0          2    1868.0           9.0   \n",
      "...          ...    ...  ...   ...        ...       ...           ...   \n",
      "9995  2017010102     20    4   1.0          1      22.0           6.0   \n",
      "9996  2017010102     20    4   NaN          1      13.0           9.0   \n",
      "9997  2017010102     21    4   NaN          1      13.0           0.0   \n",
      "9998  2017010102     21    4   1.0          1      12.0           1.0   \n",
      "9999  2017010102     21    4   NaN          0       0.0          12.0   \n",
      "\n",
      "     SideofField  yrdln  yrdline100  ...    yacEPA  Home_WP_pre  Away_WP_pre  \\\n",
      "0             SD   44.0        44.0  ...       NaN          NaN          NaN   \n",
      "1             SD   47.0        53.0  ...  0.330475     0.968025     0.031975   \n",
      "2            CAR    7.0         7.0  ...       NaN     0.940170     0.059830   \n",
      "3            CAR    9.0         9.0  ... -3.766159     0.947575     0.052425   \n",
      "4            CAR    9.0         9.0  ...  0.000000     0.953601     0.046399   \n",
      "...          ...    ...         ...  ...       ...          ...          ...   \n",
      "9995          GB   35.0        35.0  ...  0.000000     0.051901     0.948099   \n",
      "9996          GB   15.0        15.0  ...       NaN     0.093435     0.906565   \n",
      "9997         DET   35.0        35.0  ...       NaN     0.034069     0.965931   \n",
      "9998         DET   46.0        46.0  ...       NaN     0.035708     0.964292   \n",
      "9999         DET   46.0        46.0  ...       NaN     0.000000     1.000000   \n",
      "\n",
      "      Home_WP_post Away_WP_post  Win_Prob       WPA    airWPA    yacWPA  \\\n",
      "0              NaN          NaN  0.000000       NaN       NaN       NaN   \n",
      "1         0.940170     0.059830  0.031975  0.027855  0.024299  0.003556   \n",
      "2         0.947575     0.052425  0.059830 -0.007405       NaN       NaN   \n",
      "3         0.953601     0.046399  0.052425 -0.006025  0.036136 -0.042161   \n",
      "4         0.912354     0.087646  0.046399  0.041247  0.041247  0.000000   \n",
      "...            ...          ...       ...       ...       ...       ...   \n",
      "9995      0.093435     0.906565  0.051901  0.041534  0.041534  0.000000   \n",
      "9996      0.034069     0.965931  0.093435 -0.059366       NaN       NaN   \n",
      "9997      0.035708     0.964292  0.965931 -0.001639       NaN       NaN   \n",
      "9998      0.000000     1.000000  0.964292  0.035708       NaN       NaN   \n",
      "9999      0.000000     1.000000  0.934245  0.000000       NaN       NaN   \n",
      "\n",
      "      Season  \n",
      "0       2016  \n",
      "1       2016  \n",
      "2       2016  \n",
      "3       2016  \n",
      "4       2016  \n",
      "...      ...  \n",
      "9995    2016  \n",
      "9996    2016  \n",
      "9997    2016  \n",
      "9998    2016  \n",
      "9999    2016  \n",
      "\n",
      "[10000 rows x 100 columns]\n"
     ]
    }
   ],
   "source": [
    "#масштабирование\n",
    "from sklearn.preprocessing import RobustScaler\n",
    "from sklearn import preprocessing\n",
    "# Write your code here (4 lines):\n",
    "# choose the scaler class.\n",
    "# create the scaler object.\n",
    "scaler = preprocessing.RobustScaler()\n",
    "# fit it to the data.\n",
    "robust_df = scaler.fit_transform(imputed_data)\n",
    "# transform the data\n",
    "robust_df = pd.DataFrame(robust_df, columns=imputed_data.columns)\n",
    "print(robust_df)\n",
    "print(football_df)\n",
    "\n",
    "\n"
   ]
  },
  {
   "cell_type": "code",
   "execution_count": null,
   "metadata": {},
   "outputs": [],
   "source": [
    "print(robust_df)"
   ]
  },
  {
   "cell_type": "markdown",
   "metadata": {
    "pycharm": {
     "name": "#%% md\n"
    }
   },
   "source": [
    "## 6. Trainset splitting\n",
    "Issues that lead to trainset splitting:\n",
    "1. How we will measure the performance of our model?\n",
    "<span style=\"color:blue\"> Measuring performance on the trainset is not a good idea intuitively, as to estimate the generalization error, we need to evaluate the model on a data that wasn't seen before.\n",
    "So we need to split the dataset that we have to two parts trainset and testset.\n",
    "2. How we will tune the hyperparamters? Can it be done with testset?\n",
    "<span style=\"color:blue\"> If we tuned the hyperparamters on the testset, this will be considered as Data leakage as the hyperparams were tuned on the set that represent the evaluation, so there's a high chance that it will overfit the testset and fails to generalize (i.e., get high test accuracy but fails in production for example).\n",
    "So, it is a must to split the data into 3 parts:\n",
    "(70%) trainset to train the params , (10%) validation set to tune the hyperparameters (it can be used for other stuff like early stopping (tbe)), and (20%) testset to evaluate the model finally.\n",
    "\n",
    "Issues to think of:\n",
    "1. Is is the best strategy to get the best estimate for the true risk/performance of the system?\n",
    "<span style=\"color:blue\"> There's a chance that the testset is biased. So, a better way to estimate the true generalization error is to use cross validation.\n",
    "Cross validation is a method where the dataset, is divided into k equally sized folds then we train on k-1 folds and test on the left one and repeat this process k times for each fold and get k estimates, finally we average all of these k accuracies to represent the final accuracy.\n",
    "2. (Advanced) How to choose between two models?\n",
    "If you have two models one with test accuracy 90% and the other with 91% (averaged from cross valdiation), which one to choose?\n",
    "<span style=\"color:blue\"> The naive/fast approach is to use the model with higher accuracy. But what if these estimates are not significantly different (we got them by chance), then a hypothesis test needs to be done.\n",
    "After testing each model for each fold from the k-folds we can use \"Paired t-test\" to test if they are significantly different or not.\n",
    "<br />(more advanced way, which is used in industry: A/B testing, watch about it [here](https://www.youtube.com/watch?v=zFMgpxG-chM))\n",
    "\n",
    "<span style=\"color:red\"> TASK : In the next task, you will split your data into 3 parts, train, test, and validation by ratios: 70%, 20%, and 10% respectively.</span>"
   ]
  },
  {
   "cell_type": "code",
   "execution_count": 116,
   "metadata": {
    "pycharm": {
     "name": "#%%\n"
    }
   },
   "outputs": [
    {
     "name": "stdout",
     "output_type": "stream",
     "text": [
      "(7000, 13034) (1980, 13034) (1020, 13034)\n"
     ]
    }
   ],
   "source": [
    "from sklearn.model_selection import train_test_split\n",
    "\n",
    "# TODO: Write your code here (2 lines)\n",
    "x = robust_df.drop(columns=['Win_Prob'])  # Features\n",
    "y = robust_df['Win_Prob'] \n",
    "x_train, x_temp, y_train, y_temp = train_test_split(x, y, test_size=0.3)\n",
    "x_val, x_test, y_val, y_test = train_test_split(x_temp, y_temp, test_size=0.66)\n",
    "#x, x_test, y, y_test = train_test_split(xtrain,labels,test_size=0.2,train_size=0.8)\n",
    "#x_train, x_cv, y_train, y_cv = train_test_split(x,y,test_size = 0.25,train_size =0.75)\n",
    "\n",
    "print(x_train.shape, x_test.shape, x_val.shape)"
   ]
  },
  {
   "cell_type": "markdown",
   "metadata": {},
   "source": [
    "## 7. Data Visualization\n",
    "Visualization is key-issue to get some insights and intuition about your dataset.\n",
    "How to plot 259 features (259-dimensional data)? what we can plot -at maximum- is 2d or 3d data.\n",
    "\n",
    "Hint: We should reduce the dimension. Read this [article](https://towardsdatascience.com/dimensionality-reduction-ways-and-intuitions-1b5e97592d8e).\n",
    "\n",
    "So, Let's use UMAP to reduce the dimension of this dataset to be 2D."
   ]
  },
  {
   "cell_type": "code",
   "execution_count": 28,
   "metadata": {
    "pycharm": {
     "name": "#%%\n"
    }
   },
   "outputs": [
    {
     "name": "stdout",
     "output_type": "stream",
     "text": [
      "[[  0.63013529  -1.50720983]\n",
      " [-13.0227711    9.69581608]\n",
      " [  9.31083291   5.29980519]\n",
      " ...\n",
      " [ -5.62178803   2.30212933]\n",
      " [  0.81677407  -1.32766613]\n",
      " [  0.70556389  -1.52518688]]\n"
     ]
    }
   ],
   "source": [
    "from sklearn.decomposition import PCA\n",
    "\n",
    "dim_reducer = PCA(n_components=2)\n",
    "x_train_reduced = dim_reducer.fit_transform(x_train)\n",
    "print(x_train_reduced)"
   ]
  },
  {
   "cell_type": "code",
   "execution_count": 29,
   "metadata": {},
   "outputs": [
    {
     "name": "stdout",
     "output_type": "stream",
     "text": [
      "            PC1       PC2\n",
      "0      0.630135 -1.507210\n",
      "1    -13.022771  9.695816\n",
      "2      9.310833  5.299805\n",
      "3      0.612207 -1.497731\n",
      "4      0.787081 -1.392625\n",
      "...         ...       ...\n",
      "6995  -3.135626 -3.521022\n",
      "6996  -0.307425 -1.555819\n",
      "6997  -5.621788  2.302129\n",
      "6998   0.816774 -1.327666\n",
      "6999   0.705564 -1.525187\n",
      "\n",
      "[7000 rows x 2 columns]\n"
     ]
    }
   ],
   "source": [
    "pca_df = pd.DataFrame(data=x_train_reduced, columns=['PC1', 'PC2'])\n",
    "print(pca_df)"
   ]
  },
  {
   "cell_type": "markdown",
   "metadata": {},
   "source": [
    "Let's plot the reduced dataset on a 2D plane.\n",
    "Use matplotlib to make a scatter plot for the reduced dataset."
   ]
  },
  {
   "cell_type": "code",
   "execution_count": 31,
   "metadata": {
    "pycharm": {
     "name": "#%%\n"
    }
   },
   "outputs": [
    {
     "data": {
      "image/png": "[encoded data removed]",
      "text/plain": [
       "<Figure size 1000x1000 with 1 Axes>"
      ]
     },
     "metadata": {},
     "output_type": "display_data"
    }
   ],
   "source": [
    "import matplotlib.pyplot as plt\n",
    "%matplotlib inline\n",
    "import seaborn as sns\n",
    "plt.figure(figsize=(10, 10))\n",
    "sns.scatterplot(data=pca_df, x='PC1', y='PC2')  # Add hue='target' for coloring by target variable\n",
    "plt.title('PCA Result')\n",
    "plt.xlabel('Principal Component 1')\n",
    "plt.ylabel('Principal Component 2')\n",
    "plt.grid()\n",
    "plt.show()\n",
    "# Write code to plot the reduced dataset in a scatter plot."
   ]
  },
  {
   "cell_type": "markdown",
   "metadata": {},
   "source": [
    "## 8. Self Practice task\n",
    "\n",
    "Using the Football dataset follow the steps below:\n",
    "1. Select `Win_Prob` as target variable \n",
    "1. Remove columns with constant value (i.e all the values in the column are equal to zero)\n",
    "1. Extract features from `Date` and `time` column\n",
    "1. Remove all columns with more than 99% missing values\n",
    "1. Remove all columns with 99% distinct values\n",
    "1. Split the data into train (80%) and test(20%) sets. \n",
    "1. Split the train data into train (80%) and validation sets. \n",
    "1. Encode categorical data using a different encoder (not One Hot encoder) : see [Category Encoders](https://contrib.scikit-learn.org/category_encoders/index.html) for a full list. remember that you fit the encoder on train data only and then transform test data\n",
    "1. Impute missing values\n",
    "\n",
    "<span style=\"color:red\"> NOTE : Make use of the insights from pandas profiling report</span>"
   ]
  },
  {
   "cell_type": "code",
   "execution_count": 100,
   "metadata": {},
   "outputs": [],
   "source": [
    "#Select Win_Prob as target variable\n",
    "X = football_df.drop(columns=['Win_Prob'])  # Features\n",
    "Y = football_df['Win_Prob'] "
   ]
  },
  {
   "cell_type": "code",
   "execution_count": 102,
   "metadata": {},
   "outputs": [
    {
     "name": "stdout",
     "output_type": "stream",
     "text": [
      "          GameID  Drive  qtr  down  TimeUnder  TimeSecs  PlayTimeDiff  \\\n",
      "0     2016121101     13    2   NaN          2    1920.0           5.0   \n",
      "1     2016121101     13    2   1.0          2    1920.0           0.0   \n",
      "2     2016121101     13    2   1.0          2    1910.0          10.0   \n",
      "3     2016121101     13    2   2.0          2    1877.0          33.0   \n",
      "4     2016121101     13    2   3.0          2    1868.0           9.0   \n",
      "...          ...    ...  ...   ...        ...       ...           ...   \n",
      "9995  2017010102     20    4   1.0          1      22.0           6.0   \n",
      "9996  2017010102     20    4   NaN          1      13.0           9.0   \n",
      "9997  2017010102     21    4   NaN          1      13.0           0.0   \n",
      "9998  2017010102     21    4   1.0          1      12.0           1.0   \n",
      "9999  2017010102     21    4   NaN          0       0.0          12.0   \n",
      "\n",
      "     SideofField  yrdln  yrdline100  ...    airEPA    yacEPA  Home_WP_pre  \\\n",
      "0             SD   44.0        44.0  ...       NaN       NaN          NaN   \n",
      "1             SD   47.0        53.0  ...  2.310961  0.330475     0.968025   \n",
      "2            CAR    7.0         7.0  ...       NaN       NaN     0.940170   \n",
      "3            CAR    9.0         9.0  ...  3.189185 -3.766159     0.947575   \n",
      "4            CAR    9.0         9.0  ...  3.766159  0.000000     0.953601   \n",
      "...          ...    ...         ...  ...       ...       ...          ...   \n",
      "9995          GB   35.0        35.0  ...  4.620003  0.000000     0.051901   \n",
      "9996          GB   15.0        15.0  ...       NaN       NaN     0.093435   \n",
      "9997         DET   35.0        35.0  ...       NaN       NaN     0.034069   \n",
      "9998         DET   46.0        46.0  ...       NaN       NaN     0.035708   \n",
      "9999         DET   46.0        46.0  ...       NaN       NaN     0.000000   \n",
      "\n",
      "      Away_WP_pre Home_WP_post Away_WP_post       WPA    airWPA    yacWPA  \\\n",
      "0             NaN          NaN          NaN       NaN       NaN       NaN   \n",
      "1        0.031975     0.940170     0.059830  0.027855  0.024299  0.003556   \n",
      "2        0.059830     0.947575     0.052425 -0.007405       NaN       NaN   \n",
      "3        0.052425     0.953601     0.046399 -0.006025  0.036136 -0.042161   \n",
      "4        0.046399     0.912354     0.087646  0.041247  0.041247  0.000000   \n",
      "...           ...          ...          ...       ...       ...       ...   \n",
      "9995     0.948099     0.093435     0.906565  0.041534  0.041534  0.000000   \n",
      "9996     0.906565     0.034069     0.965931 -0.059366       NaN       NaN   \n",
      "9997     0.965931     0.035708     0.964292 -0.001639       NaN       NaN   \n",
      "9998     0.964292     0.000000     1.000000  0.035708       NaN       NaN   \n",
      "9999     1.000000     0.000000     1.000000  0.000000       NaN       NaN   \n",
      "\n",
      "      Season  \n",
      "0       2016  \n",
      "1       2016  \n",
      "2       2016  \n",
      "3       2016  \n",
      "4       2016  \n",
      "...      ...  \n",
      "9995    2016  \n",
      "9996    2016  \n",
      "9997    2016  \n",
      "9998    2016  \n",
      "9999    2016  \n",
      "\n",
      "[10000 rows x 99 columns]\n"
     ]
    }
   ],
   "source": [
    "print(X)"
   ]
  },
  {
   "cell_type": "code",
   "execution_count": 103,
   "metadata": {},
   "outputs": [
    {
     "name": "stdout",
     "output_type": "stream",
     "text": [
      "   A  B  C  D\n",
      "0  0  1  0  4\n",
      "1  0  2  0  5\n",
      "2  0  3  0  6\n",
      "   B  D\n",
      "0  1  4\n",
      "1  2  5\n",
      "2  3  6\n",
      "A    0.0\n",
      "B    0.0\n",
      "C    0.0\n",
      "D    0.0\n",
      "dtype: float64\n"
     ]
    }
   ],
   "source": [
    "data = {\n",
    "    'A': [0, 0, 0],\n",
    "    'B': [1, 2, 3],\n",
    "    'C': [0, 0, 0],\n",
    "    'D': [4, 5, 6]\n",
    "}\n",
    "df = pd.DataFrame(data)\n",
    "print(df)\n",
    "print(df.loc[:,(df != 0).any()])\n",
    "print(df.isnull().mean())"
   ]
  },
  {
   "cell_type": "code",
   "execution_count": 104,
   "metadata": {},
   "outputs": [
    {
     "name": "stdout",
     "output_type": "stream",
     "text": [
      "(10000, 99)\n",
      "GameID          False\n",
      "Drive           False\n",
      "qtr             False\n",
      "down            False\n",
      "TimeUnder       False\n",
      "                ...  \n",
      "Away_WP_post    False\n",
      "WPA             False\n",
      "airWPA          False\n",
      "yacWPA          False\n",
      "Season          False\n",
      "Length: 99, dtype: bool\n",
      "(10000, 99)\n"
     ]
    }
   ],
   "source": [
    "#Remove columns with constant value (i.e all the values in the column are equal to zero)\n",
    "print(X.shape)\n",
    "print((X == 0).all())\n",
    "X = X.loc[:, (X != 0).any()]\n",
    "print(X.shape)"
   ]
  },
  {
   "cell_type": "code",
   "execution_count": 107,
   "metadata": {},
   "outputs": [],
   "source": [
    "#Extract features from Date and time column\n",
    "#print(football_df['Date'])"
   ]
  },
  {
   "cell_type": "code",
   "execution_count": 108,
   "metadata": {},
   "outputs": [
    {
     "name": "stdout",
     "output_type": "stream",
     "text": [
      "GameID          0.0000\n",
      "Drive           0.0000\n",
      "qtr             0.0000\n",
      "down            0.1552\n",
      "TimeUnder       0.0000\n",
      "                 ...  \n",
      "Away_WP_post    0.0691\n",
      "WPA             0.0155\n",
      "airWPA          0.6070\n",
      "yacWPA          0.6077\n",
      "Season          0.0000\n",
      "Length: 99, dtype: float64\n",
      "Index(['TwoPointConv', 'DefTwoPoint', 'BlockingPlayer', 'RecFumbTeam',\n",
      "       'RecFumbPlayer', 'ChalReplayResult'],\n",
      "      dtype='object')\n"
     ]
    }
   ],
   "source": [
    "#Remove all columns with more than 99% missing values\n",
    "missing_percentage = X.isnull().mean()\n",
    "print(missing_percentage)\n",
    "columns_to_drop = missing_percentage[missing_percentage > 0.99].index\n",
    "print(columns_to_drop)\n"
   ]
  },
  {
   "cell_type": "code",
   "execution_count": null,
   "metadata": {},
   "outputs": [],
   "source": []
  },
  {
   "cell_type": "code",
   "execution_count": 110,
   "metadata": {},
   "outputs": [
    {
     "name": "stdout",
     "output_type": "stream",
     "text": [
      "(10000, 99)\n",
      "(10000, 93)\n"
     ]
    }
   ],
   "source": [
    "print(X.shape)\n",
    "X = X.drop(columns= columns_to_drop)\n",
    "print(X.shape)"
   ]
  },
  {
   "cell_type": "code",
   "execution_count": 112,
   "metadata": {},
   "outputs": [],
   "source": [
    "#Remove all columns with 99% distinct values\n",
    "distinct_counts = X.nunique()\n",
    "total_rows = len(X)\n",
    "columns_to_drop = distinct_counts[distinct_counts > 0.99 * total_rows].index\n",
    "X = X.drop(columns=columns_to_drop)"
   ]
  },
  {
   "cell_type": "code",
   "execution_count": 118,
   "metadata": {},
   "outputs": [
    {
     "name": "stdout",
     "output_type": "stream",
     "text": [
      "(6400, 93) (2000, 93) (1600, 93)\n"
     ]
    }
   ],
   "source": [
    "#Split the data into train (80%) and test(20%) sets.\n",
    "#Split the train data into train (80%) and validation sets.\n",
    "X_train, X_test, Y_train, Y_test = train_test_split(X, Y, test_size=0.2)\n",
    "X_val, X_train, Y_val, Y_train = train_test_split(X_train, Y_train, test_size=0.8)\n",
    "print(X_train.shape, X_test.shape, X_val.shape)"
   ]
  },
  {
   "cell_type": "code",
   "execution_count": 119,
   "metadata": {},
   "outputs": [
    {
     "name": "stdout",
     "output_type": "stream",
     "text": [
      "8428    0.400604\n",
      "2262    0.778157\n",
      "5465    0.800970\n",
      "3908    0.511725\n",
      "6165    0.282119\n",
      "          ...   \n",
      "6604    0.626854\n",
      "3424    0.917715\n",
      "3848    0.838156\n",
      "7855    0.214305\n",
      "4292    0.148738\n",
      "Name: Win_Prob, Length: 2000, dtype: float64\n"
     ]
    }
   ],
   "source": [
    "print(Y_test)"
   ]
  },
  {
   "cell_type": "code",
   "execution_count": 120,
   "metadata": {},
   "outputs": [],
   "source": [
    "#Encode categorical data using a different encoder (not One Hot encoder) : see Category Encoders for a full list. remember that you fit the encoder on train data only and then transform test data\n",
    "from category_encoders import BinaryEncoder\n",
    "cat_feats2 = football_df.select_dtypes(include=['object']).columns.tolist() \n",
    "encoder2 = BinaryEncoder(cols = cat_feats)\n",
    "encoded_data2 = encoder2.fit_transform(football_df)"
   ]
  },
  {
   "cell_type": "code",
   "execution_count": 121,
   "metadata": {},
   "outputs": [
    {
     "name": "stdout",
     "output_type": "stream",
     "text": [
      "After Imputing:\n",
      "#Empty cells in dataset = 0\n"
     ]
    }
   ],
   "source": [
    "imputer2 = SimpleImputer(missing_values = np.nan, \n",
    "                        strategy ='mean')\n",
    "# fit the imputer.\n",
    "imputer2 = imputer2.fit(encoded_data2)\n",
    "# transform the data\n",
    "imputed_data2 = imputer2.transform(encoded_data2)\n",
    "print(\"After Imputing:\")\n",
    "# Print number of empty cells in the data(1 line)\n",
    "print(\"#Empty cells in dataset =\", count_nans(imputed_data2))\n",
    "imputed_data2 = pd.DataFrame(imputed_data2, columns=encoded_data2.columns)\n"
   ]
  },
  {
   "cell_type": "code",
   "execution_count": null,
   "metadata": {},
   "outputs": [],
   "source": []
  }
 ],
 "metadata": {
  "kernelspec": {
   "display_name": "Python 3 (ipykernel)",
   "language": "python",
   "name": "python3"
  },
  "language_info": {
   "codemirror_mode": {
    "name": "ipython",
    "version": 3
   },
   "file_extension": ".py",
   "mimetype": "text/x-python",
   "name": "python",
   "nbconvert_exporter": "python",
   "pygments_lexer": "ipython3",
   "version": "3.11.7"
  }
 },
 "nbformat": 4,
 "nbformat_minor": 4
}
